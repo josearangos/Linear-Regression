{
 "cells": [
  {
   "cell_type": "code",
   "execution_count": 2,
   "metadata": {},
   "outputs": [],
   "source": [
    "import numpy as np\n",
    "import pandas as pd\n",
    "import matplotlib.pyplot as plt\n",
    "plt.rcParams['figure.figsize'] = (12.0, 9.0)"
   ]
  },
  {
   "cell_type": "markdown",
   "metadata": {},
   "source": [
    "### Linear Regression ONE variable"
   ]
  },
  {
   "cell_type": "code",
   "execution_count": 3,
   "metadata": {},
   "outputs": [],
   "source": [
    "data = pd.read_csv('data.csv') \n",
    "#data = pd.read_csv('ex1data1.csv')\n",
    "#data = pd.read_csv('ex1data2.csv')\n",
    "X = data.iloc[:,0]\n",
    "Y = data.iloc[:,1]"
   ]
  },
  {
   "cell_type": "code",
   "execution_count": 4,
   "metadata": {},
   "outputs": [
    {
     "data": {
      "image/png": "[encoded data removed]",
      "text/plain": [
       "<Figure size 432x288 with 1 Axes>"
      ]
     },
     "metadata": {},
     "output_type": "display_data"
    }
   ],
   "source": [
    "plt.scatter(X,Y)\n",
    "plt.show()"
   ]
  },
  {
   "cell_type": "code",
   "execution_count": 7,
   "metadata": {},
   "outputs": [
    {
     "name": "stdout",
     "output_type": "stream",
     "text": [
      "0.03983111622034392 1.480857964373347\n"
     ]
    }
   ],
   "source": [
    "from IPython.display import display, clear_output\n",
    "# Building the model for 1 variable \n",
    "b_0 = 0\n",
    "b_1 = 0\n",
    "L = 0.0001\n",
    "iterations = 3\n",
    "m = len(X) #Number of samples\n",
    "\n",
    "fig = plt.figure()\n",
    "ax = fig.add_subplot(1, 1, 1) \n",
    "\n",
    "for j in range(iterations):    \n",
    "    for i in range(m):       \n",
    "        Y_pred = b_1*X +b_0 \n",
    "        D_0 = (1/m)*sum(Y_pred- Y)\n",
    "        D_1 = (1/m)*sum((Y_pred -Y)*X)\n",
    "        b_0 = b_0 - L*D_0\n",
    "        b_1 = b_1 - L*D_1 \n",
    "        ax.cla()\n",
    "        ax.scatter(X,Y)\n",
    "        ax.plot([min(X), max(X)], [min(Y_pred), max(Y_pred)], color='red')\n",
    "        display(fig)\n",
    "        clear_output(wait=True)\n",
    "        plt.pause(0.5)        \n",
    "print(b_0,b_1)"
   ]
  },
  {
   "cell_type": "code",
   "execution_count": null,
   "metadata": {},
   "outputs": [],
   "source": [
    "Y_pred = b_1*X +b_0\n",
    "plt.scatter(X,Y)\n",
    "plt.plot([min(X), max(X)], [min(Y_pred), max(Y_pred)], color='red')\n",
    "plt.show()"
   ]
  },
  {
   "cell_type": "code",
   "execution_count": 6,
   "metadata": {},
   "outputs": [
    {
     "name": "stdout",
     "output_type": "stream",
     "text": [
      "     6.1101    17.592\n",
      "0    5.5277   9.13020\n",
      "1    8.5186  13.66200\n",
      "2    7.0032  11.85400\n",
      "3    5.8598   6.82330\n",
      "4    8.3829  11.88600\n",
      "5    7.4764   4.34830\n",
      "6    8.5781  12.00000\n",
      "7    6.4862   6.59870\n",
      "8    5.0546   3.81660\n",
      "9    5.7107   3.25220\n",
      "10  14.1640  15.50500\n",
      "11   5.7340   3.15510\n",
      "12   8.4084   7.22580\n",
      "13   5.6407   0.71618\n",
      "14   5.3794   3.51290\n",
      "15   6.3654   5.30480\n",
      "16   5.1301   0.56077\n",
      "17   6.4296   3.65180\n",
      "18   7.0708   5.38930\n",
      "19   6.1891   3.13860\n",
      "20  20.2700  21.76700\n",
      "21   5.4901   4.26300\n",
      "22   6.3261   5.18750\n",
      "23   5.5649   3.08250\n",
      "24  18.9450  22.63800\n",
      "25  12.8280  13.50100\n",
      "26  10.9570   7.04670\n",
      "27  13.1760  14.69200\n",
      "28  22.2030  24.14700\n",
      "29   5.2524  -1.22000\n",
      "..      ...       ...\n",
      "66  10.2360   7.77540\n",
      "67   5.4994   1.01730\n",
      "68  20.3410  20.99200\n",
      "69  10.1360   6.67990\n",
      "70   7.3345   4.02590\n",
      "71   6.0062   1.27840\n",
      "72   7.2259   3.34110\n",
      "73   5.0269  -2.68070\n",
      "74   6.5479   0.29678\n",
      "75   7.5386   3.88450\n",
      "76   5.0365   5.70140\n",
      "77  10.2740   6.75260\n",
      "78   5.1077   2.05760\n",
      "79   5.7292   0.47953\n",
      "80   5.1884   0.20421\n",
      "81   6.3557   0.67861\n",
      "82   9.7687   7.54350\n",
      "83   6.5159   5.34360\n",
      "84   8.5172   4.24150\n",
      "85   9.1802   6.79810\n",
      "86   6.0020   0.92695\n",
      "87   5.5204   0.15200\n",
      "88   5.0594   2.82140\n",
      "89   5.7077   1.84510\n",
      "90   7.6366   4.29590\n",
      "91   5.8707   7.20290\n",
      "92   5.3054   1.98690\n",
      "93   8.2934   0.14454\n",
      "94  13.3940   9.05510\n",
      "95   5.4369   0.61705\n",
      "\n",
      "[96 rows x 2 columns]\n"
     ]
    }
   ],
   "source": [
    "data = pd.read_csv('ex1data1.csv')\n",
    "print(data)"
   ]
  },
  {
   "cell_type": "code",
   "execution_count": null,
   "metadata": {},
   "outputs": [],
   "source": []
  }
 ],
 "metadata": {
  "kernelspec": {
   "display_name": "Python 3",
   "language": "python",
   "name": "python3"
  },
  "language_info": {
   "codemirror_mode": {
    "name": "ipython",
    "version": 3
   },
   "file_extension": ".py",
   "mimetype": "text/x-python",
   "name": "python",
   "nbconvert_exporter": "python",
   "pygments_lexer": "ipython3",
   "version": "3.6.5"
  }
 },
 "nbformat": 4,
 "nbformat_minor": 2
}
