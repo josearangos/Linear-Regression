{
 "cells": [
  {
   "cell_type": "markdown",
   "metadata": {},
   "source": [
    "# Ejemplos de regresión lineal\n",
    "###### NOTA: Cuidado con las dimensiones de las matrices, siempre mirar que dimensiones tienen y en caso tal de que solo tenga una sola dimensión utilizar reshape"
   ]
  },
  {
   "cell_type": "code",
   "execution_count": 24,
   "metadata": {},
   "outputs": [],
   "source": [
    "import numpy as np\n",
    "import pandas as pd\n",
    "import matplotlib.pyplot as plt"
   ]
  },
  {
   "cell_type": "code",
   "execution_count": 25,
   "metadata": {},
   "outputs": [
    {
     "data": {
      "text/plain": [
       "((97, 2), (97, 1))"
      ]
     },
     "execution_count": 25,
     "metadata": {},
     "output_type": "execute_result"
    },
    {
     "data": {
      "image/png": "[encoded data removed]",
      "text/plain": [
       "<Figure size 432x288 with 1 Axes>"
      ]
     },
     "metadata": {},
     "output_type": "display_data"
    }
   ],
   "source": [
    "df = pd.read_csv('ex1data1.csv') #Leo los datos \n",
    "tempX = df.iloc[:,0]\n",
    "tempY = df.iloc[:,1]\n",
    "colX = tempX.values.reshape(len(tempX),1) # como al vector X sele necesita añadir una columna de unos se pone en una variable temporal\n",
    "X = np.concatenate((np.ones((len(tempX),1)),colX),axis=1)# se le añade la columna de unos y se cambia de Dataframe a ndarray\n",
    "Y = tempY.values.reshape(len(tempY),1) # se le cambia de dataframe a ndarray\n",
    "m = len(X)\n",
    "plt.plot(X[:,1],Y,'rx')\n",
    "plt.show\n",
    "X.shape,Y.shape"
   ]
  },
  {
   "cell_type": "code",
   "execution_count": 26,
   "metadata": {},
   "outputs": [
    {
     "data": {
      "text/plain": [
       "(2, 1)"
      ]
     },
     "execution_count": 26,
     "metadata": {},
     "output_type": "execute_result"
    }
   ],
   "source": [
    "theta = np.zeros((2,1)) # se crea el vector de theta con zeros, tambien se le pueden dar valores arbitrarios\n",
    "#theta = np.array([-1,2])\n",
    "theta.shape"
   ]
  },
  {
   "cell_type": "code",
   "execution_count": 27,
   "metadata": {},
   "outputs": [],
   "source": [
    "def costFunction(y,x,theta):\n",
    "    h = np.dot(x,theta)#.reshape((len(x),1)) # creamos el vector de hipotesis esto se hace de theta'*X\n",
    "    m = len(y)\n",
    "    c = 1/(2*m)\n",
    "    J = c*sum((h-y)**2)\n",
    "    return J[0] ##Quitar los corchetes si se quiere mostrar dentro del array"
   ]
  },
  {
   "cell_type": "code",
   "execution_count": 29,
   "metadata": {},
   "outputs": [
    {
     "data": {
      "text/plain": [
       "32.072733877455654"
      ]
     },
     "execution_count": 29,
     "metadata": {},
     "output_type": "execute_result"
    }
   ],
   "source": [
    "J = costFunction(Y,X,theta)\n",
    "J"
   ]
  },
  {
   "cell_type": "code",
   "execution_count": 30,
   "metadata": {},
   "outputs": [],
   "source": [
    "def gradDescendt(X,y,thetaTemp,iterations,alpha):\n",
    "    m = len(X)\n",
    "    c = 1/m\n",
    "    temp = 0\n",
    "    for i in range(iterations):\n",
    "        for j in range(len(thetaTemp)):\n",
    "            h = np.dot(X,thetaTemp)#.reshape((len(X),1)) # creamos el vector de hipotesis esto se hace de theta'*X\n",
    "            x = X[:,j]            \n",
    "            x = x.reshape((m,1)) # evitamos el error de dimensiones (tamaño, nada)\n",
    "            temp = x\n",
    "            thetaTemp[j] = thetaTemp[j] - alpha * c * sum((h-y)*x)  \n",
    "            #print(alpha * c * sum((h-y)*x))\n",
    "        #print(thetaTemp)\n",
    "    return thetaTemp"
   ]
  },
  {
   "cell_type": "code",
   "execution_count": 33,
   "metadata": {
    "scrolled": true
   },
   "outputs": [
    {
     "name": "stdout",
     "output_type": "stream",
     "text": [
      "[[-3.89467283]\n",
      " [ 1.19292253]]\n"
     ]
    },
    {
     "data": {
      "text/plain": [
       "<function matplotlib.pyplot.show(*args, **kw)>"
      ]
     },
     "execution_count": 33,
     "metadata": {},
     "output_type": "execute_result"
    },
    {
     "data": {
      "image/png": "[encoded data removed]",
      "text/plain": [
       "<Figure size 432x288 with 1 Axes>"
      ]
     },
     "metadata": {},
     "output_type": "display_data"
    }
   ],
   "source": [
    "theta = gradDescendt(X,Y,theta,1500,0.01)\n",
    "print\n",
    "H = np.dot(X,theta)\n",
    "plt.plot(X[:,1],Y,'o')\n",
    "plt.plot(X[:,1],H,'-')\n",
    "plt.show"
   ]
  },
  {
   "cell_type": "code",
   "execution_count": null,
   "metadata": {},
   "outputs": [],
   "source": []
  },
  {
   "cell_type": "code",
   "execution_count": 349,
   "metadata": {},
   "outputs": [],
   "source": [
    "\"\"\"def gradDescendt2(X,y,thetaTemp,iterations,alpha):\n",
    "    m = len(X)\n",
    "    c = 1/m   \n",
    "    for i in range(iterations):\n",
    "        h = np.dot(X,thetaTemp).reshape((len(X),1)) # creamos el vector de hipotesis esto se hace de theta'*X\n",
    "        x = X[:,0]\n",
    "        x = x.reshape((m,1)) # evitamos el error de dimensiones (tamaño, nada)        \n",
    "        thetaTemp[0] = thetaTemp[0] - alpha * c * sum(h-y) \n",
    "        thetaTemp[1] = thetaTemp[1] - alpha * c * sum((h-y)*x)\n",
    "    return thetaTemp\"\"\""
   ]
  },
  {
   "cell_type": "code",
   "execution_count": null,
   "metadata": {},
   "outputs": [],
   "source": []
  },
  {
   "cell_type": "code",
   "execution_count": 1,
   "metadata": {},
   "outputs": [
    {
     "data": {
      "text/plain": [
       "'gradDescendt2(X,Y,theta,1500,0.01)'"
      ]
     },
     "execution_count": 1,
     "metadata": {},
     "output_type": "execute_result"
    }
   ],
   "source": [
    "\"\"\"gradDescendt2(X,Y,theta,1500,0.01)\"\"\""
   ]
  },
  {
   "cell_type": "code",
   "execution_count": 216,
   "metadata": {},
   "outputs": [
    {
     "data": {
      "text/plain": [
       "array([0, 0])"
      ]
     },
     "execution_count": 216,
     "metadata": {},
     "output_type": "execute_result"
    }
   ],
   "source": []
  },
  {
   "cell_type": "code",
   "execution_count": null,
   "metadata": {},
   "outputs": [],
   "source": []
  }
 ],
 "metadata": {
  "kernelspec": {
   "display_name": "Python 3",
   "language": "python",
   "name": "python3"
  },
  "language_info": {
   "codemirror_mode": {
    "name": "ipython",
    "version": 3
   },
   "file_extension": ".py",
   "mimetype": "text/x-python",
   "name": "python",
   "nbconvert_exporter": "python",
   "pygments_lexer": "ipython3",
   "version": "3.6.5"
  }
 },
 "nbformat": 4,
 "nbformat_minor": 2
}
